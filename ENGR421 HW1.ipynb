{
 "cells": [
  {
   "cell_type": "markdown",
   "metadata": {},
   "source": [
    "# ÖZGE SAYAR"
   ]
  },
  {
   "cell_type": "markdown",
   "metadata": {},
   "source": [
    "# ENGR421 HOMEWORK 1"
   ]
  },
  {
   "cell_type": "code",
   "execution_count": 229,
   "metadata": {},
   "outputs": [],
   "source": [
    "import math\n",
    "import matplotlib.pyplot as plt\n",
    "import numpy as np\n",
    "import pandas as pd\n",
    "import scipy.stats as stats\n"
   ]
  },
  {
   "cell_type": "markdown",
   "metadata": {},
   "source": [
    "## Parameters"
   ]
  },
  {
   "cell_type": "code",
   "execution_count": 230,
   "metadata": {},
   "outputs": [],
   "source": [
    "np.random.seed(421)\n",
    "\n",
    "#mean parameters\n",
    "class_means = np.array ([[+0.0, +4.5],\n",
    "                        [-4.5,-1.0],\n",
    "                        [+4.5,-1.0],\n",
    "                        [+0.0,-4.0]])\n",
    "#covarience parameters\n",
    "class_covariances= np.array([[[+3.2, +0.0], \n",
    "                             [+0.0, +1.2]],\n",
    "                            [[+1.2, +0.8], \n",
    "                             [+0.8, +1.2]],\n",
    "                            [[+1.2, -0.8], \n",
    "                             [-0.8, +1.2]],\n",
    "                            [[+1.2, +0.0], \n",
    "                             [+0.0, +3.2]]])\n",
    "class_sizes= np.array([105, 145, 135, 115])"
   ]
  },
  {
   "cell_type": "markdown",
   "metadata": {},
   "source": [
    "## Data Generation"
   ]
  },
  {
   "cell_type": "code",
   "execution_count": 231,
   "metadata": {},
   "outputs": [],
   "source": [
    "#generate random samples\n",
    "points1= np.random.multivariate_normal(mean = class_means[0,:],\n",
    "                          cov = class_covariances[0,:,:],\n",
    "                          size = class_sizes[0])\n",
    "points2= np.random.multivariate_normal(mean = class_means[1,:],\n",
    "                          cov = class_covariances[1,:,:],\n",
    "                          size = class_sizes[1])\n",
    "points3= np.random.multivariate_normal(mean = class_means[2,:],\n",
    "                          cov = class_covariances[2,:,:],\n",
    "                          size = class_sizes[2])\n",
    "points4= np.random.multivariate_normal(mean = class_means[3,:],\n",
    "                          cov = class_covariances[3,:,:],\n",
    "                          size = class_sizes[3])\n",
    "x = np.vstack((points1, points2, points3, points4))\n",
    "\n",
    "# generate corresponding labels\n",
    "y = np.concatenate((np.repeat(1, class_sizes[0]), np.repeat(2, class_sizes[1]), np.repeat(3, class_sizes[2]), np.repeat(4, class_sizes[3])))\n"
   ]
  },
  {
   "cell_type": "markdown",
   "metadata": {},
   "source": [
    "## Exporting Data"
   ]
  },
  {
   "cell_type": "code",
   "execution_count": 232,
   "metadata": {},
   "outputs": [],
   "source": [
    "# write data to a file\n",
    "np.savetxt(\"hw1.csv\", np.hstack((x, y[:, None])), fmt = \"%f,%f,%d\")"
   ]
  },
  {
   "cell_type": "code",
   "execution_count": 233,
   "metadata": {},
   "outputs": [
    {
     "data": {
      "image/png": "[encoded data removed]",
      "text/plain": [
       "<Figure size 576x576 with 1 Axes>"
      ]
     },
     "metadata": {
      "needs_background": "light"
     },
     "output_type": "display_data"
    }
   ],
   "source": [
    "#plotting data\n",
    "\n",
    "x1_interval = np.linspace(-8, +8, 1001)\n",
    "x2_interval = np.linspace(-8, +8, 1001)\n",
    "\n",
    "x1_grid, x2_grid = np.meshgrid(x1_interval, x2_interval)\n",
    "X_grid = np.vstack((x1_grid.flatten(), x2_grid.flatten())).T\n",
    "\n",
    "D1 = stats.multivariate_normal.pdf(X_grid, mean = class_means[0,:],\n",
    "                                   cov = class_covariances[0,:,:])\n",
    "D1 = D1.reshape((len(x1_interval), len(x2_interval)))\n",
    "\n",
    "D2 = stats.multivariate_normal.pdf(X_grid, mean = class_means[1,:],\n",
    "                                   cov = class_covariances[1,:,:])\n",
    "D2 = D2.reshape((len(x1_interval), len(x2_interval)))\n",
    "\n",
    "D3 = stats.multivariate_normal.pdf(X_grid, mean = class_means[2,:],\n",
    "                                   cov = class_covariances[2,:,:])\n",
    "D3 = D3.reshape((len(x1_interval), len(x2_interval)))\n",
    "\n",
    "D4 = stats.multivariate_normal.pdf(X_grid, mean = class_means[3,:],\n",
    "                                   cov = class_covariances[3,:,:])\n",
    "D4 = D4.reshape((len(x1_interval), len(x2_interval)))\n",
    "\n",
    "# plot data points generated\n",
    "plt.figure(figsize = (8, 8))\n",
    "plt.plot(points1[:,0], points1[:,1], \"r.\", markersize = 10)\n",
    "plt.plot(points2[:,0], points2[:,1], \"g.\", markersize = 10)\n",
    "plt.plot(points3[:,0], points3[:,1], \"b.\", markersize = 10)\n",
    "plt.plot(points4[:,0], points4[:,1], \"m.\", markersize = 10)\n",
    "\n",
    "#plt.contour(x1_grid, x2_grid, D1, levels = [0.03, 0.06, 0.09, 0.12],\n",
    "#            colors = \"a\", linestyles = \"dashed\")\n",
    "#plt.contour(x1_grid, x2_grid, D2, levels = [0.03, 0.06, 0.09, 0.12],\n",
    "#            colors = \"b\", linestyles = \"dashed\")\n",
    "\n",
    "plt.xlim((-8, +8))\n",
    "plt.ylim((-8, +8))\n",
    "plt.xlabel(\"$x_1$\")\n",
    "plt.ylabel(\"$x_2$\")\n",
    "plt.show()"
   ]
  },
  {
   "cell_type": "code",
   "execution_count": 234,
   "metadata": {},
   "outputs": [],
   "source": [
    "#import data\n",
    "\n",
    "# read data into memory\n",
    "data_set = np.genfromtxt(\"hw1.csv\", delimiter = \",\")\n",
    "\n",
    "# get x and y values\n",
    "X = data_set[:,[0, 1]]\n",
    "y_truth = data_set[:,2].astype(int)\n",
    "\n",
    "# get number of classes and number of samples\n",
    "K = np.max(y_truth)\n",
    "N = data_set.shape[0]\n"
   ]
  },
  {
   "cell_type": "markdown",
   "metadata": {},
   "source": [
    "## Parameter Estimation"
   ]
  },
  {
   "cell_type": "code",
   "execution_count": 235,
   "metadata": {},
   "outputs": [
    {
     "name": "stdout",
     "output_type": "stream",
     "text": [
      "[array([0.14550241, 4.55638816]), array([-4.45510875, -0.92632895]), array([ 4.48187484, -1.02664884]), array([-0.15761939, -3.93467956])]\n",
      "[array([[2.88774467, 0.26160804],\n",
      "       [0.26160804, 1.02301075]]), array([[1.43606841, 1.01209997],\n",
      "       [1.01209997, 1.36898642]]), array([[ 1.2777115 , -0.95351749],\n",
      "       [-0.95351749,  1.29984191]]), array([[1.32615908, 0.27672137],\n",
      "       [0.27672137, 2.80556549]])]\n",
      "[0.21, 0.29, 0.27, 0.23]\n"
     ]
    }
   ],
   "source": [
    "# sample means\n",
    "sample_means = [np.mean(x[y==(c+1)], axis=0) for c in range(K)]\n",
    "\n",
    "# sample covariences\n",
    "sample_covariances = [np.matmul(np.transpose(X[y == (c+1)] - sample_means[c]),X[y == (c+1)] - sample_means[c])/class_sizes[c] for c in range(K)]\n",
    "# prior probabilities\n",
    "class_priors = [np.mean(y == (c + 1)) for c in range(K)]\n",
    "\n",
    "print(sample_means)\n",
    "print(sample_covariances)\n",
    "print(class_priors)"
   ]
  },
  {
   "cell_type": "markdown",
   "metadata": {},
   "source": [
    "## Confusion Matrix "
   ]
  },
  {
   "cell_type": "code",
   "execution_count": 236,
   "metadata": {},
   "outputs": [
    {
     "name": "stdout",
     "output_type": "stream",
     "text": [
      "y_truth        1    2    3    4\n",
      "y_predicted                    \n",
      "0.0          105    0    0    0\n",
      "1.0            0  145    0    0\n",
      "2.0            0    0  133    1\n",
      "3.0            0    0    2  114\n"
     ]
    }
   ],
   "source": [
    "#parameter classification\n",
    "A = 2\n",
    "W = np.array([-0.5 * np.linalg.inv(sample_covariances[c]) for c in range (K)])\n",
    "w = np.array([np.matmul(np.linalg.inv(sample_covariances[c]),sample_means[c]) for c in range (K)])\n",
    "w0 = np.array([ -0.5 * np.matmul(np.matmul(sample_means[c].T, np.linalg.inv(sample_covariances[c])), sample_means[c]) - A/2 * np.log(2 * math.pi) - 0.5 * np.log(np.linalg.det(sample_covariances[c])) + np.log(class_priors[c]) for c in range (K)])                                           \n",
    "\n",
    "def score(j, k):\n",
    "    return np.matmul(np.matmul(X[k].T, W[j]), X[k]) + np.matmul(w[j].T, X[k]) + w0[j]\n",
    "    y_predicted = score.append\n",
    "    for h in range(len(X)):\n",
    "        maximum = np.argmax(y_predicted)\n",
    "    \n",
    "#calculate confusion matrix\n",
    "confusion_matrix = pd.crosstab(y_predicted, y_truth, \n",
    "                               rownames = [\"y_predicted\"], \n",
    "                               colnames = [\"y_truth\"])\n",
    "\n",
    "print(confusion_matrix)"
   ]
  },
  {
   "cell_type": "markdown",
   "metadata": {},
   "source": [
    "##  Decision Boundaries"
   ]
  },
  {
   "cell_type": "code",
   "execution_count": 239,
   "metadata": {
    "scrolled": false
   },
   "outputs": [
    {
     "ename": "SyntaxError",
     "evalue": "invalid syntax (<ipython-input-239-cd584b23158a>, line 5)",
     "output_type": "error",
     "traceback": [
      "\u001b[1;36m  File \u001b[1;32m\"<ipython-input-239-cd584b23158a>\"\u001b[1;36m, line \u001b[1;32m5\u001b[0m\n\u001b[1;33m    discriminant_values = [][]\u001b[0m\n\u001b[1;37m                             ^\u001b[0m\n\u001b[1;31mSyntaxError\u001b[0m\u001b[1;31m:\u001b[0m invalid syntax\n"
     ]
    }
   ],
   "source": [
    "x1_interval = np.linspace(-8, +8, 1201)\n",
    "x2_interval = np.linspace(-8, +8, 1201)\n",
    "x1_grid, x2_grid = np.meshgrid(x1_interval, x2_interval)\n",
    "\n",
    "discriminant_values = [][]\n",
    "for m in range (len(X)):\n",
    "    for n in range K\n",
    "        discriminant_values = W[n,m] * x1_grid + w[n,m] * x2_grid + w0[n,m]\n",
    "\n",
    "plt.figure(figsize = (8, 8))\n",
    "plt.plot(X[y_truth == 1, 0], X[y_truth == 1, 1], \"r.\", markersize = 10)\n",
    "plt.plot(X[y_truth == 2, 0], X[y_truth == 2, 1], \"b.\", markersize = 10)\n",
    "plt.plot(X[y_truth == 3, 0], X[y_truth == 3, 1], \"g.\", markersize = 10)\n",
    "plt.plot(X[y_truth == 4, 0], X[y_truth == 4, 1], \"m.\", markersize = 10)\n",
    "      \n",
    "\n",
    "plt.plot(X[y_predicted != y_truth, 0], X[y_predicted != y_truth, 1], \"ko\", markersize = 12, fillstyle = \"none\")\n",
    "plt.contour(x1_grid, x2_grid, discriminant_values, levels = 0, colors = \"k\")\n",
    "\n",
    "plt.xlim((-8, +8))\n",
    "plt.ylim((-8, +8))\n",
    "plt.xlabel(\"$x_1$\")\n",
    "plt.ylabel(\"$x_2$\")\n",
    "plt.show()"
   ]
  },
  {
   "cell_type": "code",
   "execution_count": null,
   "metadata": {},
   "outputs": [],
   "source": []
  }
 ],
 "metadata": {
  "kernelspec": {
   "display_name": "Python 3",
   "language": "python",
   "name": "python3"
  },
  "language_info": {
   "codemirror_mode": {
    "name": "ipython",
    "version": 3
   },
   "file_extension": ".py",
   "mimetype": "text/x-python",
   "name": "python",
   "nbconvert_exporter": "python",
   "pygments_lexer": "ipython3",
   "version": "3.7.4"
  }
 },
 "nbformat": 4,
 "nbformat_minor": 2
}
