{
 "cells": [
  {
   "cell_type": "markdown",
   "metadata": {},
   "source": [
    "#  ENGR421 HW3"
   ]
  },
  {
   "cell_type": "markdown",
   "metadata": {},
   "source": [
    "# Özge Sayar"
   ]
  },
  {
   "cell_type": "code",
   "execution_count": 12,
   "metadata": {},
   "outputs": [],
   "source": [
    "import matplotlib.pyplot as plt\n",
    "import numpy as np\n",
    "import pandas as pd\n",
    "import scipy.stats as stats\n",
    "\n",
    "def safelog(x):\n",
    "    return(np.log(x + 1e-100))"
   ]
  },
  {
   "cell_type": "markdown",
   "metadata": {},
   "source": [
    "### Import Data "
   ]
  },
  {
   "cell_type": "code",
   "execution_count": 13,
   "metadata": {},
   "outputs": [],
   "source": [
    "dataset_images = np.genfromtxt('hw03_data_set_images.csv',delimiter=',').reshape(5, 39, 320)\n",
    "dataset_labels = np.char.strip(np.genfromtxt('hw03_data_set_labels.csv',delimiter=',',dtype=str),'\"').reshape(5, 39).astype(int)\n"
   ]
  },
  {
   "cell_type": "markdown",
   "metadata": {},
   "source": [
    "### Train and Test Data "
   ]
  },
  {
   "cell_type": "code",
   "execution_count": 14,
   "metadata": {},
   "outputs": [
    {
     "name": "stdout",
     "output_type": "stream",
     "text": [
      "(125, 5)\n",
      "(70, 5)\n"
     ]
    }
   ],
   "source": [
    "#define train data (25 x 5)\n",
    "trainingdata_images = dataset_images[:,:25,:].reshape(125, 320)\n",
    "trainingdata_labels = dataset_labels[:,:25].reshape(125,)\n",
    "\n",
    "K = np.max(trainingdata_labels)\n",
    "    \n",
    "#define test data (14 x 5)\n",
    "testdata_images = dataset_images[:,25:,:].reshape(70, 320)\n",
    "testdata_labels = dataset_labels[:,25:].reshape(70,)\n",
    "\n",
    "#one hot encoding for train data\n",
    "onehot_traininglabels=[[0,0,0,0,0]]*trainingdata_labels.shape[0]\n",
    "for i in range (trainingdata_labels.shape[0]):\n",
    "    if trainingdata_labels[i] == 1:\n",
    "        label = [1,0,0,0,0]\n",
    "    if trainingdata_labels[i] == 2:\n",
    "        label = [0,1,0,0,0]\n",
    "    if trainingdata_labels[i] == 3:\n",
    "        label = [0,0,1,0,0]\n",
    "    if trainingdata_labels[i] == 4:\n",
    "        label = [0,0,0,1,0]\n",
    "    if trainingdata_labels[i] == 5:\n",
    "        label = [0,0,0,0,1] \n",
    "    onehot_traininglabels[i] = label\n",
    "\n",
    "onehot_traininglabels = np.array(onehot_traininglabels)\n",
    "print(onehot_traininglabels.shape)\n",
    "\n",
    "#one hot encoding for test data\n",
    "onehot_testlabels=[[0,0,0,0,0]]*testdata_labels.shape[0]\n",
    "for i in range (testdata_labels.shape[0]):\n",
    "    if testdata_labels[i] == 1:\n",
    "        label = [1,0,0,0,0]\n",
    "    if testdata_labels[i] == 2:\n",
    "        label = [0,1,0,0,0]\n",
    "    if testdata_labels[i] == 3:\n",
    "        label = [0,0,1,0,0]\n",
    "    if testdata_labels[i] == 4:\n",
    "        label = [0,0,0,1,0]\n",
    "    if testdata_labels[i] == 5:\n",
    "        label = [0,0,0,0,1] \n",
    "    onehot_testlabels[i] = label\n",
    "    \n",
    "onehot_testlabels = np.array(onehot_testlabels)\n",
    "print(onehot_testlabels.shape)"
   ]
  },
  {
   "cell_type": "markdown",
   "metadata": {},
   "source": [
    "### Parameter Estimation "
   ]
  },
  {
   "cell_type": "code",
   "execution_count": 15,
   "metadata": {},
   "outputs": [],
   "source": [
    "# set learning parameters\n",
    "eta = 0.001\n",
    "epsilon = 0.001"
   ]
  },
  {
   "cell_type": "code",
   "execution_count": 16,
   "metadata": {},
   "outputs": [],
   "source": [
    "# randomly initalize w and w0\n",
    "np.random.seed(421)\n",
    "w = np.random.uniform(low = -0.01, high = 0.01, size = (trainingdata_images.shape[1],np.max(trainingdata_labels)))\n",
    "w0 = np.random.uniform(low = -0.01, high = 0.01, size = (1,np.max(trainingdata_labels)))"
   ]
  },
  {
   "cell_type": "code",
   "execution_count": 17,
   "metadata": {},
   "outputs": [],
   "source": [
    "#Sigmoid Function\n",
    "def sigmoid(X, w, w0):\n",
    "    return(1 / (1 + np.exp(-(np.matmul(X, w) + w0))))"
   ]
  },
  {
   "cell_type": "code",
   "execution_count": 18,
   "metadata": {},
   "outputs": [],
   "source": [
    "# define the gradient functions\n",
    "def gradient_W(X, Y_truth, Y_predicted):\n",
    "    return (np.asarray([-np.matmul((Y_truth[:, c] - Y_predicted[:, c])  * Y_predicted[:,c] * (1- Y_predicted[:,c]), X) for c in range(K)]).transpose())\n",
    "\n",
    "def gradient_w0(Y_truth, Y_predicted):\n",
    "    return(-np.sum((Y_truth - Y_predicted) * Y_predicted * (1- Y_predicted), axis=0))"
   ]
  },
  {
   "cell_type": "code",
   "execution_count": 19,
   "metadata": {},
   "outputs": [
    {
     "name": "stdout",
     "output_type": "stream",
     "text": [
      "[[-0.007313   -0.04365135 -0.02283699  0.11954214 -0.02471816]\n",
      " [-0.0772168   0.00808906 -0.11410913  0.19204372  0.02484684]\n",
      " [-0.08098001  0.06492251 -0.12291065  0.15759649  0.03581208]\n",
      " ...\n",
      " [ 0.04350351  0.12033443  0.03493316 -0.14106721 -0.11477042]\n",
      " [ 0.05483368 -0.15529821  0.04138291 -0.18311856 -0.01104428]\n",
      " [ 0.07461121 -0.23759405  0.09797277 -0.15343788 -0.01975529]]\n",
      "[[-0.04886843 -0.17238056 -0.01419691 -0.03881936 -0.16691034]]\n"
     ]
    }
   ],
   "source": [
    "# learn W and w0 using gradient descent\n",
    "iteration = 1\n",
    "objective_values = []\n",
    "while True:\n",
    "    Y_predicted = sigmoid(trainingdata_images, w, w0)\n",
    "    objective_values = np.append(objective_values, 0.5 * np.sum((onehot_traininglabels - Y_predicted) ** 2))\n",
    "    \n",
    "    w_old = w\n",
    "    w0_old = w0\n",
    "\n",
    "    w = w - eta * gradient_W(trainingdata_images, onehot_traininglabels, Y_predicted)\n",
    "    w0 = w0 - eta * gradient_w0(onehot_traininglabels, Y_predicted)\n",
    "    \n",
    "    if np.sqrt(np.sum((w0 - w0_old))**2 + np.sum((w - w_old)**2)) < epsilon:\n",
    "        break\n",
    "        \n",
    "    iteration = iteration + 1\n",
    "    \n",
    "print(w)\n",
    "print(w0)"
   ]
  },
  {
   "cell_type": "markdown",
   "metadata": {},
   "source": [
    "### Graph of Objective Function "
   ]
  },
  {
   "cell_type": "code",
   "execution_count": 20,
   "metadata": {},
   "outputs": [
    {
     "data": {
      "image/png": "[encoded data removed]",
      "text/plain": [
       "<Figure size 720x432 with 1 Axes>"
      ]
     },
     "metadata": {
      "needs_background": "light"
     },
     "output_type": "display_data"
    }
   ],
   "source": [
    "plt.figure(figsize = (10, 6))\n",
    "plt.plot(range(1, iteration + 1), objective_values, \"k-\")\n",
    "plt.xlabel(\"Iteration\")\n",
    "plt.ylabel(\"Error\")\n",
    "plt.show()"
   ]
  },
  {
   "cell_type": "markdown",
   "metadata": {},
   "source": [
    "### Confusion Matrix for Training Set "
   ]
  },
  {
   "cell_type": "code",
   "execution_count": 21,
   "metadata": {},
   "outputs": [
    {
     "name": "stdout",
     "output_type": "stream",
     "text": [
      "y_truth   1   2   3   4   5\n",
      "y_pred                     \n",
      "1        25   0   0   0   0\n",
      "2         0  25   0   0   0\n",
      "3         0   0  25   0   0\n",
      "4         0   0   0  25   0\n",
      "5         0   0   0   0  25\n"
     ]
    }
   ],
   "source": [
    "y_predicted = np.argmax(Y_predicted, axis = 1) + 1\n",
    "confusion_matrix = pd.crosstab(y_predicted, np.sum(onehot_traininglabels * np.array([1,2,3,4,5]), axis=1), rownames = [\"y_pred\"], colnames = [\"y_truth\"])\n",
    "print(confusion_matrix)"
   ]
  },
  {
   "cell_type": "markdown",
   "metadata": {},
   "source": [
    "### Confusion Matrix for Test Set "
   ]
  },
  {
   "cell_type": "code",
   "execution_count": 22,
   "metadata": {},
   "outputs": [
    {
     "name": "stdout",
     "output_type": "stream",
     "text": [
      "y_truth   1   2   3   4   5\n",
      "y_pred                     \n",
      "1        13   1   0   0   0\n",
      "2         1  11   0   0   1\n",
      "3         0   0  14   0   0\n",
      "4         0   0   0  14   0\n",
      "5         0   2   0   0  13\n"
     ]
    }
   ],
   "source": [
    "Ytest_predicted = sigmoid(testdata_images, w, w0)\n",
    "ytest_values = np.argmax(Ytest_predicted, axis = 1) + 1\n",
    "confusion_matrix = pd.crosstab(ytest_values, np.sum(onehot_testlabels * np.array([1,2,3,4,5]), axis=1), rownames = [\"y_pred\"], colnames = [\"y_truth\"])\n",
    "print(confusion_matrix)"
   ]
  },
  {
   "cell_type": "markdown",
   "metadata": {},
   "source": [
    "##### the end"
   ]
  }
 ],
 "metadata": {
  "kernelspec": {
   "display_name": "Python 3",
   "language": "python",
   "name": "python3"
  },
  "language_info": {
   "codemirror_mode": {
    "name": "ipython",
    "version": 3
   },
   "file_extension": ".py",
   "mimetype": "text/x-python",
   "name": "python",
   "nbconvert_exporter": "python",
   "pygments_lexer": "ipython3",
   "version": "3.7.4"
  }
 },
 "nbformat": 4,
 "nbformat_minor": 2
}
