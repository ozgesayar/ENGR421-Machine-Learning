{
 "cells": [
  {
   "cell_type": "markdown",
   "metadata": {},
   "source": [
    "# Homework 06: Support Vector Machine Classification\n",
    "## Kerem Girenes\n",
    "### April 28, 2022"
   ]
  },
  {
   "cell_type": "code",
   "execution_count": 1,
   "metadata": {},
   "outputs": [],
   "source": [
    "import matplotlib.pyplot as plt\n",
    "import numpy as np\n",
    "import pandas as pd\n",
    "import scipy.spatial.distance as dt\n",
    "import scipy\n",
    "#from qpsolvers import solve_qp\n",
    "#import ecos\n",
    "import cvxopt as cvx"
   ]
  },
  {
   "cell_type": "markdown",
   "metadata": {},
   "source": [
    "## Importing Data"
   ]
  },
  {
   "cell_type": "code",
   "execution_count": 2,
   "metadata": {},
   "outputs": [],
   "source": [
    "images = np.genfromtxt(\"hw06_data_set_images.csv\", delimiter=\",\")\n",
    "labels = np.genfromtxt(\"hw06_data_set_labels.csv\", delimiter=\",\")"
   ]
  },
  {
   "cell_type": "markdown",
   "metadata": {},
   "source": [
    "## Dividing the Data Set"
   ]
  },
  {
   "cell_type": "code",
   "execution_count": 3,
   "metadata": {},
   "outputs": [],
   "source": [
    "X_train = images[:1000]\n",
    "X_test = images[1000:]\n",
    "y_train = labels[:1000].astype(int)\n",
    "y_test = labels[1000:].astype(int)\n",
    "\n",
    "# two distinct classes\n",
    "K = 2\n",
    "\n",
    "# N_train = N_test\n",
    "N = X_train.shape[0]\n",
    "\n",
    "# Pixel Count\n",
    "PX = X_train.shape[1]\n",
    "\n",
    "# Number of Bins\n",
    "NO_BINS = 64"
   ]
  },
  {
   "cell_type": "markdown",
   "metadata": {},
   "source": [
    "## Construct Color Histograms for Training and Test Data"
   ]
  },
  {
   "cell_type": "code",
   "execution_count": 4,
   "metadata": {},
   "outputs": [
    {
     "name": "stdout",
     "output_type": "stream",
     "text": [
      "[[0.86479592 0.00127551 0.         0.00255102 0.        ]\n",
      " [0.66836735 0.         0.00127551 0.00127551 0.        ]\n",
      " [0.66454082 0.00637755 0.00382653 0.00765306 0.00892857]\n",
      " [0.65816327 0.00765306 0.00892857 0.00127551 0.00382653]\n",
      " [0.5625     0.00255102 0.00255102 0.00127551 0.        ]]\n",
      "[[0.68239796 0.00255102 0.00127551 0.00127551 0.00127551]\n",
      " [0.69770408 0.01658163 0.00510204 0.00382653 0.01020408]\n",
      " [0.73341837 0.02678571 0.01530612 0.00510204 0.00637755]\n",
      " [0.63903061 0.00892857 0.00255102 0.00127551 0.        ]\n",
      " [0.75382653 0.00765306 0.00127551 0.00127551 0.        ]]\n"
     ]
    }
   ],
   "source": [
    "bins = np.linspace(0, 1, NO_BINS)\n",
    "\n",
    "H_train = np.zeros((N, NO_BINS))\n",
    "H_test = np.zeros((N, NO_BINS))\n",
    "\n",
    "for xi in range(N):\n",
    "    for pi in range(PX):\n",
    "        # train histogram\n",
    "        b = (X_train[xi][pi]/4).astype(int)\n",
    "        H_train[xi][b] += 1\n",
    "        # test histogram\n",
    "        b = (X_test[xi][pi]/4).astype(int)\n",
    "        H_test[xi][b] += 1\n",
    "    # normalize histograms\n",
    "    H_train[xi] = H_train[xi] / PX\n",
    "    H_test[xi] = H_test[xi] / PX\n",
    "    \n",
    "print(H_train[0:5, 0:5])\n",
    "print(H_test[0:5, 0:5])"
   ]
  },
  {
   "cell_type": "markdown",
   "metadata": {},
   "source": [
    "## Construct Kernel Matrices for Training and Test Data"
   ]
  },
  {
   "cell_type": "code",
   "execution_count": 5,
   "metadata": {},
   "outputs": [
    {
     "name": "stdout",
     "output_type": "stream",
     "text": [
      "[[1.         0.72321429 0.77040816 0.75382653 0.62755102]\n",
      " [0.72321429 1.         0.73086735 0.78571429 0.68622449]\n",
      " [0.77040816 0.73086735 1.         0.84056122 0.70153061]\n",
      " [0.75382653 0.78571429 0.84056122 1.         0.76403061]\n",
      " [0.62755102 0.68622449 0.70153061 0.76403061 1.        ]]\n",
      "[[0.77806122 0.80867347 0.82142857 0.88647959 0.79209184]\n",
      " [0.79464286 0.76403061 0.84566327 0.86607143 0.77933673]\n",
      " [0.8380102  0.74362245 0.85714286 0.83035714 0.68877551]\n",
      " [0.71556122 0.84438776 0.75       0.83418367 0.75765306]\n",
      " [0.84438776 0.76785714 0.82397959 0.84183673 0.73469388]]\n"
     ]
    }
   ],
   "source": [
    "def h_kernel(hi, hj):\n",
    "    res = 0\n",
    "    for l in range(NO_BINS):\n",
    "        res += min(hi[l], hj[l])\n",
    "    return res\n",
    "\n",
    "K_train = np.zeros((N, N))\n",
    "K_test = np.zeros((N, N))\n",
    "\n",
    "for i in range(N):\n",
    "    for j in range(N):\n",
    "        K_train[i][j] = h_kernel(H_train[i], H_train[j])\n",
    "        K_test[i][j] = h_kernel(H_test[i], H_train[j])\n",
    "        \n",
    "print(K_train[0:5, 0:5])\n",
    "print(K_test[0:5, 0:5])"
   ]
  },
  {
   "cell_type": "markdown",
   "metadata": {},
   "source": [
    "## Train a SVM Classifier and Calculate the Confusion Matrices"
   ]
  },
  {
   "cell_type": "code",
   "execution_count": 6,
   "metadata": {},
   "outputs": [
    {
     "name": "stdout",
     "output_type": "stream",
     "text": [
      "     pcost       dcost       gap    pres   dres\n",
      " 0:  1.0887e+03 -6.1913e+04  1e+05  5e-01  5e-14\n",
      " 1:  1.2396e+03 -1.1654e+04  1e+04  3e-14  5e-14\n",
      " 2: -4.1568e+02 -3.9854e+03  4e+03  1e-14  5e-14\n",
      " 3: -8.3426e+02 -2.5760e+03  2e+03  2e-14  5e-14\n",
      " 4: -1.0562e+03 -1.7960e+03  7e+02  6e-14  5e-14\n",
      " 5: -1.2018e+03 -1.4485e+03  2e+02  7e-15  6e-14\n",
      " 6: -1.2586e+03 -1.3270e+03  7e+01  2e-14  7e-14\n",
      " 7: -1.2782e+03 -1.2901e+03  1e+01  7e-14  7e-14\n",
      " 8: -1.2826e+03 -1.2831e+03  5e-01  4e-14  7e-14\n",
      " 9: -1.2828e+03 -1.2828e+03  1e-02  4e-15  7e-14\n",
      "10: -1.2828e+03 -1.2828e+03  2e-04  3e-14  7e-14\n",
      "Optimal solution found.\n",
      "Training Confusion Matrix:\n",
      "y_train       -1    1\n",
      "y_predicted          \n",
      "-1           484    9\n",
      " 1             9  498\n",
      "Test Confusion Matrix:\n",
      "y_train       -1    1\n",
      "y_predicted          \n",
      "-1           466   25\n",
      " 1            37  472\n"
     ]
    }
   ],
   "source": [
    "# define Gaussian kernel function\n",
    "def gaussian_kernel(X1, X2, s):\n",
    "    D = dt.cdist(X1, X2)\n",
    "    K = np.exp(-D**2 / (2 * s**2))\n",
    "    return(K)\n",
    "\n",
    "def train_svm(X_set, y_set, N, s, C, epsilon):\n",
    "    yyK = np.matmul(y_set[:,None], y_set[None,:]) * K_train\n",
    "\n",
    "    P = cvx.matrix(yyK)\n",
    "    q = cvx.matrix(-np.ones((N, 1)))\n",
    "    G = cvx.matrix(np.vstack((-np.eye(N), np.eye(N))))\n",
    "    h = cvx.matrix(np.vstack((np.zeros((N, 1)), C * np.ones((N, 1)))))\n",
    "    A = cvx.matrix(1.0 * y_set[None,:])\n",
    "    b = cvx.matrix(0.0)\n",
    "\n",
    "    # use cvxopt library to solve QP problems\n",
    "    result = cvx.solvers.qp(P, q, G, h, A, b)\n",
    "    alpha = np.reshape(result[\"x\"], N)\n",
    "    alpha[alpha < C * epsilon] = 0\n",
    "    alpha[alpha > C * (1 - epsilon)] = C\n",
    "\n",
    "    # find bias parameter\n",
    "    support_indices, = np.where(alpha != 0)\n",
    "    active_indices, = np.where(np.logical_and(alpha != 0, alpha < C))\n",
    "    w0 = np.mean(y_set[active_indices] * (1 - np.matmul(yyK[np.ix_(active_indices, support_indices)], alpha[support_indices])))\n",
    "    \n",
    "    return alpha, w0\n",
    "\n",
    "def pred(K_train, K_test, s, C, epsilon):\n",
    "    f_pred_train = []\n",
    "    f_pred_test = []\n",
    "    alpha, w0 = train_svm(X_train, y_train, N, s, C, epsilon)\n",
    "    # training predictions\n",
    "    f_pred_train = np.matmul(K_train, y_train[:, None] * alpha[:, None]) + w0\n",
    "    # test predictions\n",
    "    f_pred_test = np.matmul(K_test, y_train[:, None] * alpha[:, None]) + w0\n",
    "    # prediction labels\n",
    "    y_pred_train = 2 * (f_pred_train > 0.0) - 1\n",
    "    y_pred_test = 2 * (f_pred_test > 0.0) - 1\n",
    "    \n",
    "    return y_pred_train, y_pred_test\n",
    "    \n",
    "\n",
    "C = 10\n",
    "s = 1\n",
    "epsilon = 0.001\n",
    "\n",
    "y_pred_train, y_pred_test = pred(K_train, K_test, s, C, epsilon)\n",
    "\n",
    "print(\"Training Confusion Matrix:\")\n",
    "print(pd.crosstab(np.reshape(y_pred_train, N), y_train, rownames = [\"y_predicted\"], colnames = [\"y_train\"]))\n",
    "print(\"Test Confusion Matrix:\")\n",
    "print(pd.crosstab(np.reshape(y_pred_test, N), y_test, rownames = [\"y_predicted\"], colnames = [\"y_train\"]))"
   ]
  },
  {
   "cell_type": "markdown",
   "metadata": {},
   "source": [
    "## Train SVM by Varying C, Plot Accuracies"
   ]
  },
  {
   "cell_type": "code",
   "execution_count": 10,
   "metadata": {
    "scrolled": true
   },
   "outputs": [
    {
     "name": "stdout",
     "output_type": "stream",
     "text": [
      "     pcost       dcost       gap    pres   dres\n",
      " 0: -1.8751e+02 -2.4438e+02  7e+03  3e+01  5e-15\n",
      " 1: -6.2127e+01 -2.2353e+02  5e+02  1e+00  4e-15\n",
      " 2: -4.8341e+01 -1.2857e+02  8e+01  1e-15  1e-15\n",
      " 3: -5.3798e+01 -6.6369e+01  1e+01  3e-16  1e-15\n",
      " 4: -5.7212e+01 -6.1182e+01  4e+00  2e-15  1e-15\n",
      " 5: -5.8516e+01 -5.9343e+01  8e-01  5e-16  1e-15\n",
      " 6: -5.8814e+01 -5.8991e+01  2e-01  7e-16  1e-15\n",
      " 7: -5.8883e+01 -5.8910e+01  3e-02  2e-16  1e-15\n",
      " 8: -5.8895e+01 -5.8897e+01  2e-03  7e-16  1e-15\n",
      " 9: -5.8896e+01 -5.8896e+01  3e-05  5e-16  1e-15\n",
      "Optimal solution found.\n",
      "     pcost       dcost       gap    pres   dres\n",
      " 0: -2.1663e+02 -7.2291e+02  8e+03  8e+00  7e-15\n",
      " 1: -1.1031e+02 -6.1711e+02  7e+02  3e-01  5e-15\n",
      " 2: -1.1254e+02 -1.8088e+02  7e+01  1e-02  2e-15\n",
      " 3: -1.2553e+02 -1.5831e+02  3e+01  5e-03  2e-15\n",
      " 4: -1.3428e+02 -1.4269e+02  9e+00  1e-03  3e-15\n",
      " 5: -1.3682e+02 -1.3946e+02  3e+00  2e-04  4e-15\n",
      " 6: -1.3789e+02 -1.3812e+02  2e-01  3e-06  4e-15\n",
      " 7: -1.3799e+02 -1.3800e+02  8e-03  8e-08  4e-15\n",
      " 8: -1.3799e+02 -1.3799e+02  2e-04  2e-09  4e-15\n",
      " 9: -1.3799e+02 -1.3799e+02  6e-06  4e-11  4e-15\n",
      "Optimal solution found.\n",
      "     pcost       dcost       gap    pres   dres\n",
      " 0: -2.9195e+02 -2.3170e+03  1e+04  3e+00  9e-15\n",
      " 1: -2.0833e+02 -1.4682e+03  2e+03  1e-01  8e-15\n",
      " 2: -2.3783e+02 -5.1959e+02  3e+02  2e-02  7e-15\n",
      " 3: -2.7877e+02 -3.6235e+02  9e+01  5e-03  7e-15\n",
      " 4: -2.9498e+02 -3.3365e+02  4e+01  2e-03  8e-15\n",
      " 5: -3.0553e+02 -3.1419e+02  9e+00  3e-04  9e-15\n",
      " 6: -3.0853e+02 -3.0943e+02  9e-01  1e-05  9e-15\n",
      " 7: -3.0888e+02 -3.0894e+02  6e-02  8e-07  1e-14\n",
      " 8: -3.0891e+02 -3.0891e+02  2e-03  2e-08  1e-14\n",
      " 9: -3.0891e+02 -3.0891e+02  8e-05  6e-10  1e-14\n",
      "Optimal solution found.\n",
      "     pcost       dcost       gap    pres   dres\n",
      " 0: -3.6264e+02 -9.4514e+03  2e+04  9e-01  2e-14\n",
      " 1: -2.2721e+02 -3.1424e+03  3e+03  8e-15  2e-14\n",
      " 2: -4.4950e+02 -1.2403e+03  8e+02  6e-15  2e-14\n",
      " 3: -5.5393e+02 -8.6102e+02  3e+02  3e-15  2e-14\n",
      " 4: -6.0205e+02 -7.4754e+02  1e+02  2e-14  2e-14\n",
      " 5: -6.3137e+02 -6.7923e+02  5e+01  1e-14  2e-14\n",
      " 6: -6.4327e+02 -6.5534e+02  1e+01  1e-14  2e-14\n",
      " 7: -6.4710e+02 -6.4838e+02  1e+00  2e-15  3e-14\n",
      " 8: -6.4763e+02 -6.4767e+02  4e-02  2e-14  2e-14\n",
      " 9: -6.4765e+02 -6.4765e+02  1e-03  4e-14  2e-14\n",
      "10: -6.4765e+02 -6.4765e+02  4e-05  2e-15  3e-14\n",
      "Optimal solution found.\n",
      "     pcost       dcost       gap    pres   dres\n",
      " 0:  1.0887e+03 -6.1913e+04  1e+05  5e-01  5e-14\n",
      " 1:  1.2396e+03 -1.1654e+04  1e+04  3e-14  5e-14\n",
      " 2: -4.1568e+02 -3.9854e+03  4e+03  1e-14  5e-14\n",
      " 3: -8.3426e+02 -2.5760e+03  2e+03  2e-14  5e-14\n",
      " 4: -1.0562e+03 -1.7960e+03  7e+02  6e-14  5e-14\n",
      " 5: -1.2018e+03 -1.4485e+03  2e+02  7e-15  6e-14\n",
      " 6: -1.2586e+03 -1.3270e+03  7e+01  2e-14  7e-14\n",
      " 7: -1.2782e+03 -1.2901e+03  1e+01  7e-14  7e-14\n",
      " 8: -1.2826e+03 -1.2831e+03  5e-01  4e-14  7e-14\n",
      " 9: -1.2828e+03 -1.2828e+03  1e-02  4e-15  7e-14\n",
      "10: -1.2828e+03 -1.2828e+03  2e-04  3e-14  7e-14\n",
      "Optimal solution found.\n",
      "     pcost       dcost       gap    pres   dres\n",
      " 0:  2.2427e+04 -5.1656e+05  1e+06  4e-01  2e-13\n",
      " 1:  1.8996e+04 -7.1786e+04  9e+04  4e-03  1e-13\n",
      " 2:  2.9639e+03 -1.8354e+04  2e+04  5e-04  1e-13\n",
      " 3: -7.2446e+02 -6.1810e+03  5e+03  4e-05  1e-13\n",
      " 4: -1.4993e+03 -3.5173e+03  2e+03  7e-06  1e-13\n",
      " 5: -1.8750e+03 -2.5457e+03  7e+02  5e-07  2e-13\n",
      " 6: -2.0021e+03 -2.2236e+03  2e+02  1e-13  2e-13\n",
      " 7: -2.0578e+03 -2.0873e+03  3e+01  2e-14  2e-13\n",
      " 8: -2.0671e+03 -2.0686e+03  2e+00  1e-13  2e-13\n",
      " 9: -2.0676e+03 -2.0677e+03  5e-02  3e-13  2e-13\n",
      "10: -2.0676e+03 -2.0676e+03  1e-03  2e-13  2e-13\n",
      "Optimal solution found.\n",
      "     pcost       dcost       gap    pres   dres\n",
      " 0:  2.5739e+05 -4.8418e+06  9e+06  4e-01  5e-13\n",
      " 1:  2.0578e+05 -6.4991e+05  9e+05  9e-03  4e-13\n",
      " 2:  4.8818e+04 -1.5762e+05  2e+05  1e-03  4e-13\n",
      " 3:  1.1116e+04 -5.4314e+04  7e+04  1e-04  3e-13\n",
      " 4:  2.2378e+03 -2.2886e+04  3e+04  1e-05  2e-13\n",
      " 5: -6.1288e+02 -9.7518e+03  9e+03  1e-13  2e-13\n",
      " 6: -1.5849e+03 -4.4760e+03  3e+03  2e-13  1e-13\n",
      " 7: -1.9770e+03 -3.0466e+03  1e+03  1e-13  2e-13\n",
      " 8: -2.1693e+03 -2.4629e+03  3e+02  3e-13  2e-13\n",
      " 9: -2.2408e+03 -2.2803e+03  4e+01  1e-13  2e-13\n",
      "10: -2.2531e+03 -2.2544e+03  1e+00  1e-13  2e-13\n",
      "11: -2.2536e+03 -2.2536e+03  3e-02  1e-13  2e-13\n",
      "12: -2.2536e+03 -2.2536e+03  6e-04  2e-13  2e-13\n",
      "Optimal solution found.\n",
      "     pcost       dcost       gap    pres   dres\n",
      " 0:  2.6753e+06 -4.7394e+07  9e+07  3e-01  1e-12\n",
      " 1:  2.1024e+06 -6.2790e+06  9e+06  1e-02  2e-12\n",
      " 2:  5.5668e+05 -1.5726e+06  2e+06  2e-03  1e-12\n",
      " 3:  1.6775e+05 -5.6539e+05  7e+05  2e-04  9e-13\n",
      " 4:  5.6989e+04 -2.3425e+05  3e+05  3e-05  6e-13\n",
      " 5:  2.2605e+04 -1.1536e+05  1e+05  6e-06  4e-13\n",
      " 6:  6.1357e+03 -4.1607e+04  5e+04  3e-13  3e-13\n",
      " 7: -6.9081e+02 -5.6641e+03  5e+03  5e-14  2e-13\n",
      " 8: -1.5711e+03 -3.5895e+03  2e+03  8e-14  2e-13\n",
      " 9: -1.9642e+03 -2.8168e+03  9e+02  4e-13  2e-13\n",
      "10: -2.1616e+03 -2.4565e+03  3e+02  2e-13  2e-13\n",
      "11: -2.2401e+03 -2.2797e+03  4e+01  7e-16  2e-13\n",
      "12: -2.2531e+03 -2.2544e+03  1e+00  4e-14  2e-13\n",
      "13: -2.2536e+03 -2.2536e+03  4e-02  1e-13  2e-13\n",
      "14: -2.2536e+03 -2.2536e+03  7e-04  4e-14  2e-13\n",
      "Optimal solution found.\n",
      "     pcost       dcost       gap    pres   dres\n",
      " 0:  2.7070e+07 -4.7071e+08  9e+08  3e-01  5e-12\n",
      " 1:  2.1160e+07 -6.2089e+07  9e+07  1e-02  5e-12\n",
      " 2:  5.7745e+06 -1.5709e+07  2e+07  2e-03  4e-12\n",
      " 3:  1.8430e+06 -5.7124e+06  8e+06  3e-04  3e-12\n",
      " 4:  6.5556e+05 -2.3681e+06  3e+06  4e-05  2e-12\n",
      " 5:  2.9164e+05 -1.1938e+06  1e+06  9e-06  1e-12\n",
      " 6:  8.7209e+04 -3.5657e+05  4e+05  1e-12  1e-12\n",
      " 7:  1.1272e+04 -2.9885e+04  4e+04  5e-14  6e-13\n",
      " 8: -2.5169e+02 -5.1052e+03  5e+03  1e-14  3e-13\n",
      " 9: -1.4609e+03 -3.2539e+03  2e+03  2e-13  2e-13\n",
      "10: -1.9373e+03 -2.7402e+03  8e+02  1e-13  1e-13\n",
      "11: -2.1511e+03 -2.4735e+03  3e+02  1e-13  2e-13\n",
      "12: -2.2395e+03 -2.2804e+03  4e+01  1e-13  2e-13\n",
      "13: -2.2530e+03 -2.2545e+03  1e+00  8e-14  2e-13\n",
      "14: -2.2536e+03 -2.2536e+03  4e-02  3e-13  2e-13\n",
      "15: -2.2536e+03 -2.2536e+03  8e-04  3e-13  2e-13\n",
      "Optimal solution found.\n"
     ]
    },
    {
     "ename": "ValueError",
     "evalue": "x and y must have same first dimension, but have shapes (1,) and (9, 1)",
     "output_type": "error",
     "traceback": [
      "\u001b[1;31m---------------------------------------------------------------------------\u001b[0m",
      "\u001b[1;31mValueError\u001b[0m                                Traceback (most recent call last)",
      "\u001b[1;32m<ipython-input-10-8f9197e80b74>\u001b[0m in \u001b[0;36m<module>\u001b[1;34m\u001b[0m\n\u001b[0;32m     17\u001b[0m \u001b[0mx_axis_vals\u001b[0m \u001b[1;33m=\u001b[0m \u001b[1;33m[\u001b[0m\u001b[1;34m\"10^-1\"\u001b[0m\u001b[1;33m,\u001b[0m \u001b[1;34m\"10^-0.5\"\u001b[0m\u001b[1;33m,\u001b[0m \u001b[1;34m\"1\"\u001b[0m\u001b[1;33m,\u001b[0m \u001b[1;34m\"10^0.5\"\u001b[0m\u001b[1;33m,\u001b[0m \u001b[1;34m\"10^1\"\u001b[0m\u001b[1;33m,\u001b[0m \u001b[1;34m\"10^1.5\"\u001b[0m\u001b[1;33m,\u001b[0m \u001b[1;34m\"10^2\"\u001b[0m\u001b[1;33m,\u001b[0m \u001b[1;34m\"10^2.5\"\u001b[0m\u001b[1;33m,\u001b[0m \u001b[1;34m\"10^3\"\u001b[0m\u001b[1;33m]\u001b[0m\u001b[1;33m\u001b[0m\u001b[1;33m\u001b[0m\u001b[0m\n\u001b[0;32m     18\u001b[0m \u001b[0mplt\u001b[0m\u001b[1;33m.\u001b[0m\u001b[0mfigure\u001b[0m\u001b[1;33m(\u001b[0m\u001b[0mfigsize\u001b[0m\u001b[1;33m=\u001b[0m\u001b[1;33m(\u001b[0m\u001b[1;36m20\u001b[0m\u001b[1;33m,\u001b[0m\u001b[1;36m6\u001b[0m\u001b[1;33m)\u001b[0m\u001b[1;33m)\u001b[0m\u001b[1;33m\u001b[0m\u001b[1;33m\u001b[0m\u001b[0m\n\u001b[1;32m---> 19\u001b[1;33m \u001b[0mplt\u001b[0m\u001b[1;33m.\u001b[0m\u001b[0mplot\u001b[0m\u001b[1;33m(\u001b[0m\u001b[0mstr\u001b[0m\u001b[1;33m(\u001b[0m\u001b[0mC\u001b[0m\u001b[1;33m)\u001b[0m\u001b[1;33m,\u001b[0m \u001b[0mtraining_scores\u001b[0m\u001b[1;33m,\u001b[0m \u001b[1;34m\"-ob\"\u001b[0m\u001b[1;33m,\u001b[0m \u001b[0mmarkersize\u001b[0m\u001b[1;33m=\u001b[0m\u001b[1;36m4\u001b[0m\u001b[1;33m,\u001b[0m \u001b[0mlabel\u001b[0m\u001b[1;33m=\u001b[0m\u001b[1;34m'training'\u001b[0m\u001b[1;33m)\u001b[0m\u001b[1;33m\u001b[0m\u001b[1;33m\u001b[0m\u001b[0m\n\u001b[0m\u001b[0;32m     20\u001b[0m \u001b[0mplt\u001b[0m\u001b[1;33m.\u001b[0m\u001b[0mplot\u001b[0m\u001b[1;33m(\u001b[0m\u001b[0mstr\u001b[0m\u001b[1;33m(\u001b[0m\u001b[0mC\u001b[0m\u001b[1;33m)\u001b[0m\u001b[1;33m,\u001b[0m \u001b[0mtest_scores\u001b[0m\u001b[1;33m,\u001b[0m \u001b[1;34m\"-or\"\u001b[0m\u001b[1;33m,\u001b[0m \u001b[0mmarkersize\u001b[0m\u001b[1;33m=\u001b[0m\u001b[1;36m4\u001b[0m\u001b[1;33m,\u001b[0m \u001b[0mlabel\u001b[0m\u001b[1;33m=\u001b[0m\u001b[1;34m'test'\u001b[0m\u001b[1;33m)\u001b[0m\u001b[1;33m\u001b[0m\u001b[1;33m\u001b[0m\u001b[0m\n\u001b[0;32m     21\u001b[0m \u001b[0mplt\u001b[0m\u001b[1;33m.\u001b[0m\u001b[0mxlabel\u001b[0m\u001b[1;33m(\u001b[0m\u001b[1;34m\"Regularization parameter (C)\"\u001b[0m\u001b[1;33m)\u001b[0m\u001b[1;33m\u001b[0m\u001b[1;33m\u001b[0m\u001b[0m\n",
      "\u001b[1;32m~\\Anaconda3\\lib\\site-packages\\matplotlib\\pyplot.py\u001b[0m in \u001b[0;36mplot\u001b[1;34m(scalex, scaley, data, *args, **kwargs)\u001b[0m\n\u001b[0;32m   2793\u001b[0m     return gca().plot(\n\u001b[0;32m   2794\u001b[0m         *args, scalex=scalex, scaley=scaley, **({\"data\": data} if data\n\u001b[1;32m-> 2795\u001b[1;33m         is not None else {}), **kwargs)\n\u001b[0m\u001b[0;32m   2796\u001b[0m \u001b[1;33m\u001b[0m\u001b[0m\n\u001b[0;32m   2797\u001b[0m \u001b[1;33m\u001b[0m\u001b[0m\n",
      "\u001b[1;32m~\\Anaconda3\\lib\\site-packages\\matplotlib\\axes\\_axes.py\u001b[0m in \u001b[0;36mplot\u001b[1;34m(self, scalex, scaley, data, *args, **kwargs)\u001b[0m\n\u001b[0;32m   1664\u001b[0m         \"\"\"\n\u001b[0;32m   1665\u001b[0m         \u001b[0mkwargs\u001b[0m \u001b[1;33m=\u001b[0m \u001b[0mcbook\u001b[0m\u001b[1;33m.\u001b[0m\u001b[0mnormalize_kwargs\u001b[0m\u001b[1;33m(\u001b[0m\u001b[0mkwargs\u001b[0m\u001b[1;33m,\u001b[0m \u001b[0mmlines\u001b[0m\u001b[1;33m.\u001b[0m\u001b[0mLine2D\u001b[0m\u001b[1;33m.\u001b[0m\u001b[0m_alias_map\u001b[0m\u001b[1;33m)\u001b[0m\u001b[1;33m\u001b[0m\u001b[1;33m\u001b[0m\u001b[0m\n\u001b[1;32m-> 1666\u001b[1;33m         \u001b[0mlines\u001b[0m \u001b[1;33m=\u001b[0m \u001b[1;33m[\u001b[0m\u001b[1;33m*\u001b[0m\u001b[0mself\u001b[0m\u001b[1;33m.\u001b[0m\u001b[0m_get_lines\u001b[0m\u001b[1;33m(\u001b[0m\u001b[1;33m*\u001b[0m\u001b[0margs\u001b[0m\u001b[1;33m,\u001b[0m \u001b[0mdata\u001b[0m\u001b[1;33m=\u001b[0m\u001b[0mdata\u001b[0m\u001b[1;33m,\u001b[0m \u001b[1;33m**\u001b[0m\u001b[0mkwargs\u001b[0m\u001b[1;33m)\u001b[0m\u001b[1;33m]\u001b[0m\u001b[1;33m\u001b[0m\u001b[1;33m\u001b[0m\u001b[0m\n\u001b[0m\u001b[0;32m   1667\u001b[0m         \u001b[1;32mfor\u001b[0m \u001b[0mline\u001b[0m \u001b[1;32min\u001b[0m \u001b[0mlines\u001b[0m\u001b[1;33m:\u001b[0m\u001b[1;33m\u001b[0m\u001b[1;33m\u001b[0m\u001b[0m\n\u001b[0;32m   1668\u001b[0m             \u001b[0mself\u001b[0m\u001b[1;33m.\u001b[0m\u001b[0madd_line\u001b[0m\u001b[1;33m(\u001b[0m\u001b[0mline\u001b[0m\u001b[1;33m)\u001b[0m\u001b[1;33m\u001b[0m\u001b[1;33m\u001b[0m\u001b[0m\n",
      "\u001b[1;32m~\\Anaconda3\\lib\\site-packages\\matplotlib\\axes\\_base.py\u001b[0m in \u001b[0;36m__call__\u001b[1;34m(self, *args, **kwargs)\u001b[0m\n\u001b[0;32m    223\u001b[0m                 \u001b[0mthis\u001b[0m \u001b[1;33m+=\u001b[0m \u001b[0margs\u001b[0m\u001b[1;33m[\u001b[0m\u001b[1;36m0\u001b[0m\u001b[1;33m]\u001b[0m\u001b[1;33m,\u001b[0m\u001b[1;33m\u001b[0m\u001b[1;33m\u001b[0m\u001b[0m\n\u001b[0;32m    224\u001b[0m                 \u001b[0margs\u001b[0m \u001b[1;33m=\u001b[0m \u001b[0margs\u001b[0m\u001b[1;33m[\u001b[0m\u001b[1;36m1\u001b[0m\u001b[1;33m:\u001b[0m\u001b[1;33m]\u001b[0m\u001b[1;33m\u001b[0m\u001b[1;33m\u001b[0m\u001b[0m\n\u001b[1;32m--> 225\u001b[1;33m             \u001b[1;32myield\u001b[0m \u001b[1;32mfrom\u001b[0m \u001b[0mself\u001b[0m\u001b[1;33m.\u001b[0m\u001b[0m_plot_args\u001b[0m\u001b[1;33m(\u001b[0m\u001b[0mthis\u001b[0m\u001b[1;33m,\u001b[0m \u001b[0mkwargs\u001b[0m\u001b[1;33m)\u001b[0m\u001b[1;33m\u001b[0m\u001b[1;33m\u001b[0m\u001b[0m\n\u001b[0m\u001b[0;32m    226\u001b[0m \u001b[1;33m\u001b[0m\u001b[0m\n\u001b[0;32m    227\u001b[0m     \u001b[1;32mdef\u001b[0m \u001b[0mget_next_color\u001b[0m\u001b[1;33m(\u001b[0m\u001b[0mself\u001b[0m\u001b[1;33m)\u001b[0m\u001b[1;33m:\u001b[0m\u001b[1;33m\u001b[0m\u001b[1;33m\u001b[0m\u001b[0m\n",
      "\u001b[1;32m~\\Anaconda3\\lib\\site-packages\\matplotlib\\axes\\_base.py\u001b[0m in \u001b[0;36m_plot_args\u001b[1;34m(self, tup, kwargs)\u001b[0m\n\u001b[0;32m    389\u001b[0m             \u001b[0mx\u001b[0m\u001b[1;33m,\u001b[0m \u001b[0my\u001b[0m \u001b[1;33m=\u001b[0m \u001b[0mindex_of\u001b[0m\u001b[1;33m(\u001b[0m\u001b[0mtup\u001b[0m\u001b[1;33m[\u001b[0m\u001b[1;33m-\u001b[0m\u001b[1;36m1\u001b[0m\u001b[1;33m]\u001b[0m\u001b[1;33m)\u001b[0m\u001b[1;33m\u001b[0m\u001b[1;33m\u001b[0m\u001b[0m\n\u001b[0;32m    390\u001b[0m \u001b[1;33m\u001b[0m\u001b[0m\n\u001b[1;32m--> 391\u001b[1;33m         \u001b[0mx\u001b[0m\u001b[1;33m,\u001b[0m \u001b[0my\u001b[0m \u001b[1;33m=\u001b[0m \u001b[0mself\u001b[0m\u001b[1;33m.\u001b[0m\u001b[0m_xy_from_xy\u001b[0m\u001b[1;33m(\u001b[0m\u001b[0mx\u001b[0m\u001b[1;33m,\u001b[0m \u001b[0my\u001b[0m\u001b[1;33m)\u001b[0m\u001b[1;33m\u001b[0m\u001b[1;33m\u001b[0m\u001b[0m\n\u001b[0m\u001b[0;32m    392\u001b[0m \u001b[1;33m\u001b[0m\u001b[0m\n\u001b[0;32m    393\u001b[0m         \u001b[1;32mif\u001b[0m \u001b[0mself\u001b[0m\u001b[1;33m.\u001b[0m\u001b[0mcommand\u001b[0m \u001b[1;33m==\u001b[0m \u001b[1;34m'plot'\u001b[0m\u001b[1;33m:\u001b[0m\u001b[1;33m\u001b[0m\u001b[1;33m\u001b[0m\u001b[0m\n",
      "\u001b[1;32m~\\Anaconda3\\lib\\site-packages\\matplotlib\\axes\\_base.py\u001b[0m in \u001b[0;36m_xy_from_xy\u001b[1;34m(self, x, y)\u001b[0m\n\u001b[0;32m    268\u001b[0m         \u001b[1;32mif\u001b[0m \u001b[0mx\u001b[0m\u001b[1;33m.\u001b[0m\u001b[0mshape\u001b[0m\u001b[1;33m[\u001b[0m\u001b[1;36m0\u001b[0m\u001b[1;33m]\u001b[0m \u001b[1;33m!=\u001b[0m \u001b[0my\u001b[0m\u001b[1;33m.\u001b[0m\u001b[0mshape\u001b[0m\u001b[1;33m[\u001b[0m\u001b[1;36m0\u001b[0m\u001b[1;33m]\u001b[0m\u001b[1;33m:\u001b[0m\u001b[1;33m\u001b[0m\u001b[1;33m\u001b[0m\u001b[0m\n\u001b[0;32m    269\u001b[0m             raise ValueError(\"x and y must have same first dimension, but \"\n\u001b[1;32m--> 270\u001b[1;33m                              \"have shapes {} and {}\".format(x.shape, y.shape))\n\u001b[0m\u001b[0;32m    271\u001b[0m         \u001b[1;32mif\u001b[0m \u001b[0mx\u001b[0m\u001b[1;33m.\u001b[0m\u001b[0mndim\u001b[0m \u001b[1;33m>\u001b[0m \u001b[1;36m2\u001b[0m \u001b[1;32mor\u001b[0m \u001b[0my\u001b[0m\u001b[1;33m.\u001b[0m\u001b[0mndim\u001b[0m \u001b[1;33m>\u001b[0m \u001b[1;36m2\u001b[0m\u001b[1;33m:\u001b[0m\u001b[1;33m\u001b[0m\u001b[1;33m\u001b[0m\u001b[0m\n\u001b[0;32m    272\u001b[0m             raise ValueError(\"x and y can be no greater than 2-D, but have \"\n",
      "\u001b[1;31mValueError\u001b[0m: x and y must have same first dimension, but have shapes (1,) and (9, 1)"
     ]
    },
    {
     "data": {
      "image/png": "[encoded data removed]",
      "text/plain": [
       "<Figure size 1440x432 with 1 Axes>"
      ]
     },
     "metadata": {
      "needs_background": "light"
     },
     "output_type": "display_data"
    }
   ],
   "source": [
    "C = [10**-1, 10**-.5, 10**0, 10**.5, 10**1, 10**1.5, 10**2, 10**2.5, 10**3]\n",
    "\n",
    "training_scores = []\n",
    "test_scores = []\n",
    "\n",
    "def score(y_predicted, y_truth):\n",
    "    score = 0.0\n",
    "    for i in range(len(y_truth)):\n",
    "        score += (y_pred[i] == y_truth[i]) * 1.0\n",
    "    return score / len(y_truth)\n",
    "\n",
    "for c in C:\n",
    "    y_pred_train, y_pred_test = pred(K_train, K_test, s, c, epsilon)\n",
    "    training_scores.append(accuracy(y_predicted_train, y_train))\n",
    "    test_scores.append(accuracy(y_predicted_test, y_test))\n",
    "    \n",
    "plt.figure(figsize=(15,8))\n",
    "plt.plot(str(C), training_scores, \"-ob\", markersize=4, label='training')\n",
    "plt.plot(str(C), test_scores, \"-or\", markersize=4, label='test')\n",
    "plt.xlabel(\"Regularization parameter (C)\")\n",
    "plt.ylabel(\"Accuracy\")\n",
    "plt.legend(loc='upper left')\n",
    "plt.show()"
   ]
  },
  {
   "cell_type": "code",
   "execution_count": null,
   "metadata": {},
   "outputs": [],
   "source": []
  }
 ],
 "metadata": {
  "kernelspec": {
   "display_name": "Python 3",
   "language": "python",
   "name": "python3"
  },
  "language_info": {
   "codemirror_mode": {
    "name": "ipython",
    "version": 3
   },
   "file_extension": ".py",
   "mimetype": "text/x-python",
   "name": "python",
   "nbconvert_exporter": "python",
   "pygments_lexer": "ipython3",
   "version": "3.7.4"
  }
 },
 "nbformat": 4,
 "nbformat_minor": 5
}
