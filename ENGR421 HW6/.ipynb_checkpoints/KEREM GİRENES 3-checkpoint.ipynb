{
 "cells": [
  {
   "cell_type": "markdown",
   "metadata": {},
   "source": [
    "# Homework 06: Support Vector Machine Classification\n",
    "## Kerem Girenes\n",
    "### April 28, 2022"
   ]
  },
  {
   "cell_type": "code",
   "execution_count": 1,
   "metadata": {},
   "outputs": [],
   "source": [
    "import matplotlib.pyplot as plt\n",
    "import numpy as np\n",
    "import pandas as pd\n",
    "import scipy.spatial.distance as dt\n",
    "import scipy\n",
    "#from qpsolvers import solve_qp\n",
    "#import ecos\n",
    "import cvxopt as cvx"
   ]
  },
  {
   "cell_type": "markdown",
   "metadata": {},
   "source": [
    "## Importing Data"
   ]
  },
  {
   "cell_type": "code",
   "execution_count": 2,
   "metadata": {},
   "outputs": [],
   "source": [
    "images = np.genfromtxt(\"hw06_data_set_images.csv\", delimiter=\",\")\n",
    "labels = np.genfromtxt(\"hw06_data_set_labels.csv\", delimiter=\",\")"
   ]
  },
  {
   "cell_type": "markdown",
   "metadata": {},
   "source": [
    "## Dividing the Data Set"
   ]
  },
  {
   "cell_type": "code",
   "execution_count": 3,
   "metadata": {},
   "outputs": [],
   "source": [
    "X_train = images[:1000]\n",
    "X_test = images[1000:]\n",
    "y_train = labels[:1000].astype(int)\n",
    "y_test = labels[1000:].astype(int)\n",
    "\n",
    "# two distinct classes\n",
    "K = 2\n",
    "\n",
    "# N_train = N_test\n",
    "N = X_train.shape[0]\n",
    "\n",
    "# Pixel Count\n",
    "PX = X_train.shape[1]\n",
    "\n",
    "# Number of Bins\n",
    "NO_BINS = 64"
   ]
  },
  {
   "cell_type": "markdown",
   "metadata": {},
   "source": [
    "## Construct Color Histograms for Training and Test Data"
   ]
  },
  {
   "cell_type": "code",
   "execution_count": 4,
   "metadata": {},
   "outputs": [
    {
     "name": "stdout",
     "output_type": "stream",
     "text": [
      "[[0.86479592 0.00127551 0.         0.00255102 0.        ]\n",
      " [0.66836735 0.         0.00127551 0.00127551 0.        ]\n",
      " [0.66454082 0.00637755 0.00382653 0.00765306 0.00892857]\n",
      " [0.65816327 0.00765306 0.00892857 0.00127551 0.00382653]\n",
      " [0.5625     0.00255102 0.00255102 0.00127551 0.        ]]\n",
      "[[0.68239796 0.00255102 0.00127551 0.00127551 0.00127551]\n",
      " [0.69770408 0.01658163 0.00510204 0.00382653 0.01020408]\n",
      " [0.73341837 0.02678571 0.01530612 0.00510204 0.00637755]\n",
      " [0.63903061 0.00892857 0.00255102 0.00127551 0.        ]\n",
      " [0.75382653 0.00765306 0.00127551 0.00127551 0.        ]]\n"
     ]
    }
   ],
   "source": [
    "bins = np.linspace(0, 1, NO_BINS)\n",
    "\n",
    "H_train = np.zeros((N, NO_BINS))\n",
    "H_test = np.zeros((N, NO_BINS))\n",
    "\n",
    "for xi in range(N):\n",
    "    for pi in range(PX):\n",
    "        # train histogram\n",
    "        b = (X_train[xi][pi]/4).astype(int)\n",
    "        H_train[xi][b] += 1\n",
    "        # test histogram\n",
    "        b = (X_test[xi][pi]/4).astype(int)\n",
    "        H_test[xi][b] += 1\n",
    "    # normalize histograms\n",
    "    H_train[xi] = H_train[xi] / PX\n",
    "    H_test[xi] = H_test[xi] / PX\n",
    "    \n",
    "print(H_train[0:5, 0:5])\n",
    "print(H_test[0:5, 0:5])"
   ]
  },
  {
   "cell_type": "markdown",
   "metadata": {},
   "source": [
    "## Construct Kernel Matrices for Training and Test Data"
   ]
  },
  {
   "cell_type": "code",
   "execution_count": null,
   "metadata": {},
   "outputs": [],
   "source": [
    "def h_kernel(hi, hj):\n",
    "    res = 0\n",
    "    for l in range(NO_BINS):\n",
    "        res += min(hi[l], hj[l])\n",
    "    return res\n",
    "\n",
    "K_train = np.zeros((N, N))\n",
    "K_test = np.zeros((N, N))\n",
    "\n",
    "for i in range(N):\n",
    "    for j in range(N):\n",
    "        K_train[i][j] = h_kernel(H_train[i], H_train[j])\n",
    "        K_test[i][j] = h_kernel(H_test[i], H_train[j])\n",
    "        \n",
    "print(K_train[0:5, 0:5])\n",
    "print(K_test[0:5, 0:5])"
   ]
  },
  {
   "cell_type": "markdown",
   "metadata": {},
   "source": [
    "## Train a SVM Classifier and Calculate the Confusion Matrices"
   ]
  },
  {
   "cell_type": "code",
   "execution_count": null,
   "metadata": {},
   "outputs": [],
   "source": [
    "a = [np.array([[1.0001], [-1.0001]]), np.array([[-1.0001], [1.0001]])]\n",
    "rounded = []\n",
    "\n",
    "for array in a:\n",
    "    for elt in array:\n",
    "        rounded.append((round(elt[0])))\n",
    "        \n",
    "print(np.array(rounded))"
   ]
  },
  {
   "cell_type": "code",
   "execution_count": null,
   "metadata": {},
   "outputs": [],
   "source": [
    "# define Gaussian kernel function\n",
    "def gaussian_kernel(X1, X2, s):\n",
    "    D = dt.cdist(X1, X2)\n",
    "    K = np.exp(-D**2 / (2 * s**2))\n",
    "    return(K)\n",
    "\n",
    "def train_svm(X_set, y_set, N, s, C, epsilon):\n",
    "    # calculate Gaussian kernel\n",
    "    K_set = gaussian_kernel(X_set, X_set, s)\n",
    "    yyK = np.matmul(y_set[:,None], y_set[None,:]) * K_set\n",
    "\n",
    "    P = cvx.matrix(yyK)\n",
    "    q = cvx.matrix(-np.ones((N, 1)))\n",
    "    G = cvx.matrix(np.vstack((-np.eye(N), np.eye(N))))\n",
    "    h = cvx.matrix(np.vstack((np.zeros((N, 1)), C * np.ones((N, 1)))))\n",
    "    A = cvx.matrix(1.0 * y_set[None,:])\n",
    "    b = cvx.matrix(0.0)\n",
    "\n",
    "    # use cvxopt library to solve QP problems\n",
    "    result = cvx.solvers.qp(P, q, G, h, A, b)\n",
    "    alpha = np.reshape(result[\"x\"], N)\n",
    "    alpha[alpha < C * epsilon] = 0\n",
    "    alpha[alpha > C * (1 - epsilon)] = C\n",
    "\n",
    "    # find bias parameter\n",
    "    support_indices, = np.where(alpha != 0)\n",
    "    active_indices, = np.where(np.logical_and(alpha != 0, alpha < C))\n",
    "    w0 = np.mean(y_set[active_indices] * (1 - np.matmul(yyK[np.ix_(active_indices, support_indices)], alpha[support_indices])))\n",
    "    \n",
    "    return alpha, w0\n",
    "\n",
    "def pred(K_train, K_test, s, C, epsilon):\n",
    "    f_pred_train = []\n",
    "    f_pred_test = []\n",
    "    y_set = np.zeros((N))\n",
    "    for i in range(N):\n",
    "        if(y_train[i] == 1):\n",
    "            y_set[i] = 1\n",
    "        elif(y_train[i] == -1):\n",
    "            y_set[i] = -1\n",
    "    alpha, w0 = train_svm(X_train, y_set, N, s, C, epsilon)\n",
    "    # training predictions\n",
    "    f_pred_train.append(np.matmul(K_train, y_set[:, None] * alpha[:, None]) + w0)\n",
    "    # test predictions\n",
    "    f_pred_test.append(np.matmul(K_test, y_set[:, None] * alpha[:, None]) + w0)\n",
    "    # prediction labels\n",
    "    y_pred_train = []\n",
    "    y_pred_test = []\n",
    "    for array in f_pred_train:\n",
    "        for elt in array:\n",
    "            y_pred_train.append((round(elt[0])))\n",
    "    for array in f_pred_test:\n",
    "        for elt in array:\n",
    "            y_pred_test.append((round(elt[0])))\n",
    "    y_pred_train = np.array(y_pred_train)\n",
    "    y_pred_test = np.array(y_pred_test)\n",
    "    \n",
    "    return y_pred_train, y_pred_test\n",
    "    \n",
    "\n",
    "C = 10\n",
    "s = 10\n",
    "epsilon = 0.001\n",
    "\n",
    "K_train = gaussian_kernel(X_train, X_train, s)\n",
    "K_test = gaussian_kernel(X_test, X_train, s)\n",
    "\n",
    "y_pred_train, y_pred_test = pred(K_train, K_test, s, C, epsilon)\n",
    "\n",
    "print(pd.crosstab(y_pred_train, y_train, rownames=['y_predicted'], colnames=['y_train']))\n",
    "print(pd.crosstab(y_pred_test, y_test, rownames=['y_predicted'], colnames=['y_test']))"
   ]
  },
  {
   "cell_type": "markdown",
   "metadata": {},
   "source": [
    "## Train SVM by Varying C, Plot Accuracies"
   ]
  },
  {
   "cell_type": "code",
   "execution_count": null,
   "metadata": {},
   "outputs": [],
   "source": [
    "C = [10**-1, 10**-.5, 10**0, 10**.5, 10**1, 10**1.5, 10**2, 10**2.5, 10**3]\n",
    "\n",
    "training_scores = []\n",
    "test_scores = []\n",
    "\n",
    "def accuracy(y_pred, y_truth):\n",
    "    score = 0.0\n",
    "    for i in range(len(y_truth)):\n",
    "        score += (y_pred[i] == y_truth[i]) * 1.0\n",
    "    return score / len(y_truth)\n",
    "\n",
    "for c in C:\n",
    "    y_pred_train, y_pred_test = pred(K_train, K_test, s, c, epsilon)\n",
    "    training_scores.append(accuracy(y_pred_train, y_train))\n",
    "    test_scores.append(accuracy(y_pred_test, y_test))\n",
    "    \n",
    "plt.figure(figsize=(20,6))\n",
    "plt.plot(C, training_scores, \"-ob\", markersize=4, label='training')\n",
    "plt.plot(C, test_scores, \"-or\", markersize=4, label='test')\n",
    "plt.xlabel(\"Regularization parameter (C)\")\n",
    "plt.ylabel(\"Accuracy\")\n",
    "plt.legend(loc='upper left')\n",
    "plt.show()"
   ]
  }
 ],
 "metadata": {
  "kernelspec": {
   "display_name": "Python 3",
   "language": "python",
   "name": "python3"
  },
  "language_info": {
   "codemirror_mode": {
    "name": "ipython",
    "version": 3
   },
   "file_extension": ".py",
   "mimetype": "text/x-python",
   "name": "python",
   "nbconvert_exporter": "python",
   "pygments_lexer": "ipython3",
   "version": "3.7.4"
  }
 },
 "nbformat": 4,
 "nbformat_minor": 5
}
