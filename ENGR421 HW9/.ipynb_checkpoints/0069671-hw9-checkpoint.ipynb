{
 "cells": [
  {
   "cell_type": "markdown",
   "metadata": {
    "pycharm": {
     "name": "#%% md\n"
    }
   },
   "source": [
    "# Homework 09: Spectral Clustering\n",
    "## Kerem Girenes\n",
    "### May 28, 2022"
   ]
  },
  {
   "cell_type": "code",
   "execution_count": 1,
   "metadata": {
    "pycharm": {
     "name": "#%%\n"
    }
   },
   "outputs": [],
   "source": [
    "import matplotlib.pyplot as plt\n",
    "import numpy as np\n",
    "import scipy.spatial as spa"
   ]
  },
  {
   "cell_type": "markdown",
   "metadata": {
    "pycharm": {
     "name": "#%% md\n"
    }
   },
   "source": [
    "## Importing Data"
   ]
  },
  {
   "cell_type": "code",
   "execution_count": 2,
   "metadata": {
    "pycharm": {
     "name": "#%%\n"
    }
   },
   "outputs": [
    {
     "data": {
      "image/png": "[encoded data removed]",
      "text/plain": [
       "<Figure size 576x576 with 1 Axes>"
      ]
     },
     "metadata": {
      "needs_background": "light"
     },
     "output_type": "display_data"
    },
    {
     "name": "stdout",
     "output_type": "stream",
     "text": [
      "9 [100. 100. 100. 100. 100. 100. 100. 100. 200.] 1000\n",
      "Delta = 2.0\n"
     ]
    }
   ],
   "source": [
    "points = np.genfromtxt(\"hw09_data_set.csv\", delimiter=\",\")\n",
    "x1 = points[:, 0]\n",
    "x2 = points[:, 1]\n",
    "\n",
    "## Plotting Data Points\n",
    "plt.figure(figsize=(8, 8))\n",
    "plt.plot(x1, x2, \"k.\", markersize=12)\n",
    "plt.xlim([-8, 8])\n",
    "plt.ylim([-8, 8])\n",
    "plt.xlabel(\"$x_1$\")\n",
    "plt.ylabel(\"$x_2$\")\n",
    "plt.show()\n",
    "\n",
    "## Nine Distinct Classes\n",
    "K = 9\n",
    "\n",
    "## Each with size 100\n",
    "N_class = np.zeros(K)\n",
    "N_class[:] = 100\n",
    "\n",
    "## Except class 9 (which has 200)\n",
    "N_class[8] = 200\n",
    "\n",
    "## For a total of 1000 points\n",
    "N = points.shape[0]\n",
    "\n",
    "## Delta = 2.0\n",
    "delta = 2.0\n",
    "\n",
    "print(K, N_class, N)\n",
    "print(\"Delta =\", delta)"
   ]
  },
  {
   "cell_type": "markdown",
   "metadata": {
    "pycharm": {
     "name": "#%% md\n"
    }
   },
   "source": [
    "## Class Means and Class Covariances"
   ]
  },
  {
   "cell_type": "code",
   "execution_count": 3,
   "metadata": {
    "pycharm": {
     "name": "#%%\n"
    }
   },
   "outputs": [
    {
     "name": "stdout",
     "output_type": "stream",
     "text": [
      "[[ 5.  5.]\n",
      " [-5.  5.]\n",
      " [-5. -5.]\n",
      " [ 5. -5.]\n",
      " [ 5.  0.]\n",
      " [ 0.  5.]\n",
      " [-5.  0.]\n",
      " [ 0. -5.]\n",
      " [ 0.  0.]]\n",
      "[[[ 0.8 -0.6]\n",
      "  [-0.6  0.8]]\n",
      "\n",
      " [[ 0.8  0.6]\n",
      "  [ 0.6  0.8]]\n",
      "\n",
      " [[ 0.8 -0.6]\n",
      "  [-0.6  0.8]]\n",
      "\n",
      " [[ 0.8  0.6]\n",
      "  [ 0.6  0.8]]\n",
      "\n",
      " [[ 0.2  0. ]\n",
      "  [ 0.   1.2]]\n",
      "\n",
      " [[ 1.2  0. ]\n",
      "  [ 0.   0.2]]\n",
      "\n",
      " [[ 0.2  0. ]\n",
      "  [ 0.   1.2]]\n",
      "\n",
      " [[ 1.2  0. ]\n",
      "  [ 0.   0.2]]\n",
      "\n",
      " [[ 1.6  0. ]\n",
      "  [ 0.   1.6]]]\n"
     ]
    }
   ],
   "source": [
    "class_means = np.zeros((K,2))\n",
    "class_cov = np.zeros((K, 2, 2))\n",
    "\n",
    "class_means[0] = [+5.0, +5.0]\n",
    "class_means[1] = [-5.0, +5.0]\n",
    "class_means[2] = [-5.0, -5.0]\n",
    "class_means[3] = [+5.0, -5.0]\n",
    "class_means[4] = [+5.0, +0.0]\n",
    "class_means[5] = [+0.0, +5.0]\n",
    "class_means[6] = [-5.0, +0.0]\n",
    "class_means[7] = [+0.0, -5.0]\n",
    "class_means[8] = [+0.0, +0.0]\n",
    "\n",
    "class_cov[0] = [[+0.8, -0.6], [-0.6, +0.8]]\n",
    "class_cov[1] = [[+0.8, +0.6], [+0.6, +0.8]]\n",
    "class_cov[2] = [[+0.8, -0.6], [-0.6, +0.8]]\n",
    "class_cov[3] = [[+0.8, +0.6], [+0.6, +0.8]]\n",
    "class_cov[4] = [[+0.2, +0.0], [+0.0, +1.2]]\n",
    "class_cov[5] = [[+1.2, +0.0], [+0.0, +0.2]]\n",
    "class_cov[6] = [[+0.2, +0.0], [+0.0, +1.2]]\n",
    "class_cov[7] = [[+1.2, +0.0], [+0.0, +0.2]]\n",
    "class_cov[8] = [[+1.6, +0.0], [+0.0, +1.6]]\n",
    "\n",
    "print(class_means)\n",
    "print(class_cov)"
   ]
  },
  {
   "cell_type": "markdown",
   "metadata": {
    "pycharm": {
     "name": "#%% md\n"
    }
   },
   "source": [
    "## Calculate B Matrix"
   ]
  },
  {
   "cell_type": "code",
   "execution_count": 4,
   "metadata": {
    "pycharm": {
     "name": "#%%\n"
    }
   },
   "outputs": [
    {
     "name": "stdout",
     "output_type": "stream",
     "text": [
      "[[0. 0. 1. ... 0. 0. 0.]\n",
      " [0. 0. 1. ... 0. 0. 0.]\n",
      " [1. 1. 0. ... 0. 0. 0.]\n",
      " ...\n",
      " [0. 0. 0. ... 0. 0. 1.]\n",
      " [0. 0. 0. ... 0. 0. 0.]\n",
      " [0. 0. 0. ... 1. 0. 0.]]\n"
     ]
    }
   ],
   "source": [
    "def calculate_B(B, points):\n",
    "    for i in range(N):\n",
    "        for j in range(N):\n",
    "            if spa.distance.euclidean(points[i], points[j]) < delta:\n",
    "                B[i, j] = 1\n",
    "            if i == j:\n",
    "                B[i, j] = 0\n",
    "    return B\n",
    "\n",
    "B = np.zeros((N, N))\n",
    "B = calculate_B(B, points)\n",
    "print(B)"
   ]
  },
  {
   "cell_type": "markdown",
   "metadata": {
    "pycharm": {
     "name": "#%% md\n"
    }
   },
   "source": [
    "## Plot B Matrix"
   ]
  },
  {
   "cell_type": "code",
   "execution_count": null,
   "metadata": {
    "pycharm": {
     "name": "#%%\n"
    }
   },
   "outputs": [],
   "source": [
    "def plot_B(B, points):\n",
    "    plt.figure(figsize=(8, 8))\n",
    "    for p1 in range(N):\n",
    "        for p2 in range(N):\n",
    "            if B[p1, p2]:\n",
    "                vertex1 = [points[p1, 0], points[p2, 0]]\n",
    "                vertex2 = [points[p1, 1], points[p2, 1]]\n",
    "                plt.plot(vertex1, vertex2, \"-\", color=\"gray\")\n",
    "    plt.plot(x1, x2, \"k.\", markersize=12)\n",
    "    plt.xlabel(\"$x_1$\")\n",
    "    plt.ylabel(\"$x_2$\")\n",
    "    plt.show()\n",
    "\n",
    "plot_B(B, points)"
   ]
  },
  {
   "cell_type": "markdown",
   "metadata": {
    "pycharm": {
     "name": "#%% md\n"
    }
   },
   "source": [
    "## Calculate D and L Matrices"
   ]
  },
  {
   "cell_type": "code",
   "execution_count": null,
   "metadata": {
    "pycharm": {
     "name": "#%%\n"
    }
   },
   "outputs": [],
   "source": [
    "def calculate_D(B):\n",
    "    return np.diag(B.sum(axis=1))\n",
    "\n",
    "def calculate_L_symmetric(D, B):\n",
    "    I = np.eye(D.shape[0])\n",
    "    D_invsqrt = np.linalg.inv(np.sqrt(D))\n",
    "    return I - np.dot(D_invsqrt, np.dot(B, D_invsqrt))\n",
    "\n",
    "D = calculate_D(B)\n",
    "L = calculate_L_symmetric(D, B)\n",
    "\n",
    "print(L[0:6, 0:6])"
   ]
  },
  {
   "cell_type": "markdown",
   "metadata": {
    "pycharm": {
     "name": "#%% md\n"
    }
   },
   "source": [
    "## Construct Z Matrix with Eigenvalues and Eigenvectors"
   ]
  },
  {
   "cell_type": "code",
   "execution_count": null,
   "metadata": {
    "pycharm": {
     "name": "#%%\n"
    }
   },
   "outputs": [],
   "source": [
    "R = 5\n",
    "\n",
    "values, vectors = np.linalg.eig(L)\n",
    "values = np.real(values)\n",
    "vectors = np.real(vectors)\n",
    "\n",
    "vectors = vectors[:, np.argsort(values)]\n",
    "Z = vectors[:, 1:R + 1]\n",
    "\n",
    "print(Z.shape)"
   ]
  },
  {
   "cell_type": "markdown",
   "metadata": {
    "pycharm": {
     "name": "#%% md\n"
    }
   },
   "source": [
    "## K-Means Clustering on Z Matrix"
   ]
  },
  {
   "cell_type": "code",
   "execution_count": null,
   "metadata": {
    "pycharm": {
     "name": "#%%\n"
    }
   },
   "outputs": [],
   "source": [
    "## Steps and Plot Function\n",
    "\n",
    "def update_centroids(memberships, X):\n",
    "    if memberships is None:\n",
    "        # initialize centroids\n",
    "        centroids = X[np.random.choice(range(N), K, False),:]\n",
    "    else:\n",
    "        # update centroids\n",
    "        centroids = np.vstack([np.mean(X[memberships == k,:], axis = 0) for k in range(K)])\n",
    "    return(centroids)\n",
    "\n",
    "def update_memberships(centroids, X):\n",
    "    # calculate distances between centroids and data points\n",
    "    distance = spa.distance_matrix(centroids, X)\n",
    "    # find the nearest centroid for each data point\n",
    "    memberships = np.argmin(distance, axis = 0)\n",
    "    return(memberships)\n",
    "\n",
    "def plot_current_state(centroids, memberships, X):\n",
    "    cluster_colors = np.array([\"#1f78b4\", \"#33a02c\", \"#e31a1c\", \"#ff7f00\", \"#6a3d9a\", \"#b15928\",\n",
    "                               \"#a6cee3\", \"#b2df8a\", \"#fb9a99\", \"#fdbf6f\", \"#cab2d6\", \"#ffff99\"])\n",
    "    if memberships is None:\n",
    "        plt.plot(X[:,0], X[:,1], \".\", markersize = 10, color = \"black\")\n",
    "    else:\n",
    "        for c in range(K):\n",
    "            plt.plot(X[memberships == c, 0], X[memberships == c, 1], \".\", markersize = 10,\n",
    "                     color = cluster_colors[c])\n",
    "    for c in range(K):\n",
    "        plt.plot(centroids[c, 0], centroids[c, 1], \"s\", markersize = 12,\n",
    "                 markerfacecolor = cluster_colors[c], markeredgecolor = \"black\")\n",
    "    plt.xlabel(\"x1\")\n",
    "    plt.ylabel(\"x2\")\n",
    "\n",
    "## Iteration\n",
    "\n",
    "centroids = Z[242], Z[528], Z[570], Z[590], Z[648], Z[667], Z[774], Z[891], Z[955]\n",
    "centroids = np.array(centroids)\n",
    "memberships = update_memberships(centroids, Z)\n",
    "iteration = 1\n",
    "\n",
    "while True:\n",
    "    iteration = iteration +1\n",
    "\n",
    "    old_centroids = centroids\n",
    "    centroids = update_centroids(memberships, Z)\n",
    "    if np.alltrue(centroids == old_centroids):\n",
    "        break\n",
    "\n",
    "    old_memberships = memberships\n",
    "    memberships = update_memberships(centroids, Z)\n",
    "    if np.alltrue(memberships == old_memberships):\n",
    "        break\n",
    "\n",
    "print(\"Total Iterations: \", iteration)\n",
    "centroids = update_centroids(memberships, points)\n",
    "\n",
    "plt.figure(figsize=(12, 6))\n",
    "plt.subplot(1, 2, 1)\n",
    "plot_current_state(centroids, memberships, points)\n",
    "plt.show()"
   ]
  }
 ],
 "metadata": {
  "kernelspec": {
   "display_name": "Python 3",
   "language": "python",
   "name": "python3"
  },
  "language_info": {
   "codemirror_mode": {
    "name": "ipython",
    "version": 3
   },
   "file_extension": ".py",
   "mimetype": "text/x-python",
   "name": "python",
   "nbconvert_exporter": "python",
   "pygments_lexer": "ipython3",
   "version": "3.7.4"
  }
 },
 "nbformat": 4,
 "nbformat_minor": 1
}
